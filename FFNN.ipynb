{
  "nbformat": 4,
  "nbformat_minor": 0,
  "metadata": {
    "colab": {
      "name": "project_5220",
      "provenance": [],
      "machine_shape": "hm",
      "include_colab_link": true
    },
    "kernelspec": {
      "name": "python3",
      "display_name": "Python 3"
    },
    "accelerator": "GPU"
  },
  "cells": [
    {
      "cell_type": "markdown",
      "metadata": {
        "id": "view-in-github",
        "colab_type": "text"
      },
      "source": [
        "<a href=\"https://colab.research.google.com/github/wjyChina/DS5220_home_credit/blob/master/project_5220.ipynb\" target=\"_parent\"><img src=\"https://colab.research.google.com/assets/colab-badge.svg\" alt=\"Open In Colab\"/></a>"
      ]
    },
    {
      "cell_type": "code",
      "metadata": {
        "id": "CJaFB7iuIE5V",
        "colab_type": "code",
        "outputId": "09ebc8ea-8582-4b54-c922-1a99c23978f0",
        "colab": {
          "base_uri": "https://localhost:8080/",
          "height": 35
        }
      },
      "source": [
        "from google.colab import drive\n",
        "drive.mount('/content/drive')"
      ],
      "execution_count": 2,
      "outputs": [
        {
          "output_type": "stream",
          "text": [
            "Drive already mounted at /content/drive; to attempt to forcibly remount, call drive.mount(\"/content/drive\", force_remount=True).\n"
          ],
          "name": "stdout"
        }
      ]
    },
    {
      "cell_type": "code",
      "metadata": {
        "id": "GD6Vm-HxFT5E",
        "colab_type": "code",
        "colab": {}
      },
      "source": [
        "import time\n",
        "import numpy as np  #linear algebra\n",
        "import pandas as pd #Only CSV IO\n",
        "import os\n",
        "import re\n",
        "from torch.utils import data #dataloader of batch\n",
        "import torch\n",
        "import torch.nn as nn\n",
        "from sklearn.model_selection import train_test_split\n",
        "from sklearn.model_selection import StratifiedKFold\n",
        "from sklearn import metrics\n",
        "from torch.autograd import Variable #We can ask require grad or not\n",
        "from torch.optim.optimizer import Optimizer\n",
        "from torch.optim import lr_scheduler\n",
        "import torch.nn.functional as F\n",
        "from torchvision import transforms\n",
        "import matplotlib.pyplot as plt\n",
        "import gc"
      ],
      "execution_count": 0,
      "outputs": []
    },
    {
      "cell_type": "code",
      "metadata": {
        "id": "chm4Dl1lQwU6",
        "colab_type": "code",
        "outputId": "dc8541b5-8f5e-4f7d-c6cf-486e87e24dc5",
        "colab": {
          "base_uri": "https://localhost:8080/",
          "height": 69
        }
      },
      "source": [
        "# !ls drive/My\\ Drive\n",
        "os.chdir(\"drive/My Drive/Colab Notebooks/5220\") \n",
        "!ls"
      ],
      "execution_count": 4,
      "outputs": [
        {
          "output_type": "stream",
          "text": [
            "feature_selection.ipynb  test_after_selection.csv   train.csv\n",
            "project_5220.ipynb\t test.csv\n",
            "submit_ffnn.csv\t\t train_after_selection.csv\n"
          ],
          "name": "stdout"
        }
      ]
    },
    {
      "cell_type": "code",
      "metadata": {
        "id": "6hsVD1kpcY4a",
        "colab_type": "code",
        "outputId": "5ec040de-4c5e-439b-ee8a-2922f172eeee",
        "colab": {
          "base_uri": "https://localhost:8080/",
          "height": 81
        }
      },
      "source": [
        "import torch\n",
        "from torch.utils.data import Dataset\n",
        "from torchvision import transforms\n",
        "from torch.utils.data import DataLoader\n",
        "import torch.nn.functional as F\n",
        "from keras.datasets import mnist\n",
        "from keras.utils import np_utils\n",
        "import torch.nn as nn"
      ],
      "execution_count": 5,
      "outputs": [
        {
          "output_type": "stream",
          "text": [
            "Using TensorFlow backend.\n"
          ],
          "name": "stderr"
        },
        {
          "output_type": "display_data",
          "data": {
            "text/html": [
              "<p style=\"color: red;\">\n",
              "The default version of TensorFlow in Colab will soon switch to TensorFlow 2.x.<br>\n",
              "We recommend you <a href=\"https://www.tensorflow.org/guide/migrate\" target=\"_blank\">upgrade</a> now \n",
              "or ensure your notebook will continue to use TensorFlow 1.x via the <code>%tensorflow_version 1.x</code> magic:\n",
              "<a href=\"https://colab.research.google.com/notebooks/tensorflow_version.ipynb\" target=\"_blank\">more info</a>.</p>\n"
            ],
            "text/plain": [
              "<IPython.core.display.HTML object>"
            ]
          },
          "metadata": {
            "tags": []
          }
        }
      ]
    },
    {
      "cell_type": "code",
      "metadata": {
        "id": "_Iacg2VaRJNA",
        "colab_type": "code",
        "colab": {}
      },
      "source": [
        "data=pd.read_csv('train.csv')"
      ],
      "execution_count": 0,
      "outputs": []
    },
    {
      "cell_type": "code",
      "metadata": {
        "id": "kdv8VJ6Bpsf5",
        "colab_type": "code",
        "colab": {}
      },
      "source": [
        "data.set_index(['Unnamed: 0'], inplace=True)"
      ],
      "execution_count": 0,
      "outputs": []
    },
    {
      "cell_type": "code",
      "metadata": {
        "id": "hqRyP5d9seTU",
        "colab_type": "code",
        "colab": {}
      },
      "source": [
        "data.fillna(data.mean(), inplace=True)"
      ],
      "execution_count": 0,
      "outputs": []
    },
    {
      "cell_type": "code",
      "metadata": {
        "id": "BbPPVG0vYbtN",
        "colab_type": "code",
        "outputId": "37117fa8-e909-4cb2-c737-45c9d4a090f4",
        "colab": {
          "base_uri": "https://localhost:8080/",
          "height": 163
        }
      },
      "source": [
        "data[data.isnull().values==True]"
      ],
      "execution_count": 46,
      "outputs": [
        {
          "output_type": "execute_result",
          "data": {
            "text/html": [
              "<div>\n",
              "<style scoped>\n",
              "    .dataframe tbody tr th:only-of-type {\n",
              "        vertical-align: middle;\n",
              "    }\n",
              "\n",
              "    .dataframe tbody tr th {\n",
              "        vertical-align: top;\n",
              "    }\n",
              "\n",
              "    .dataframe thead th {\n",
              "        text-align: right;\n",
              "    }\n",
              "</style>\n",
              "<table border=\"1\" class=\"dataframe\">\n",
              "  <thead>\n",
              "    <tr style=\"text-align: right;\">\n",
              "      <th></th>\n",
              "      <th>AMT_ANNUITY</th>\n",
              "      <th>AMT_CREDIT</th>\n",
              "      <th>AMT_GOODS_PRICE</th>\n",
              "      <th>AMT_INCOME_TOTAL</th>\n",
              "      <th>AMT_REQ_CREDIT_BUREAU_DAY</th>\n",
              "      <th>AMT_REQ_CREDIT_BUREAU_HOUR</th>\n",
              "      <th>AMT_REQ_CREDIT_BUREAU_MON</th>\n",
              "      <th>AMT_REQ_CREDIT_BUREAU_QRT</th>\n",
              "      <th>AMT_REQ_CREDIT_BUREAU_WEEK</th>\n",
              "      <th>AMT_REQ_CREDIT_BUREAU_YEAR</th>\n",
              "      <th>APARTMENTS_AVG</th>\n",
              "      <th>APARTMENTS_MEDI</th>\n",
              "      <th>APARTMENTS_MODE</th>\n",
              "      <th>BASEMENTAREA_AVG</th>\n",
              "      <th>BASEMENTAREA_MEDI</th>\n",
              "      <th>BASEMENTAREA_MODE</th>\n",
              "      <th>CNT_CHILDREN</th>\n",
              "      <th>CNT_FAM_MEMBERS</th>\n",
              "      <th>COMMONAREA_AVG</th>\n",
              "      <th>COMMONAREA_MEDI</th>\n",
              "      <th>COMMONAREA_MODE</th>\n",
              "      <th>DAYS_BIRTH</th>\n",
              "      <th>DAYS_EMPLOYED</th>\n",
              "      <th>DAYS_ID_PUBLISH</th>\n",
              "      <th>DAYS_LAST_PHONE_CHANGE</th>\n",
              "      <th>DAYS_REGISTRATION</th>\n",
              "      <th>DEF_30_CNT_SOCIAL_CIRCLE</th>\n",
              "      <th>DEF_60_CNT_SOCIAL_CIRCLE</th>\n",
              "      <th>ELEVATORS_AVG</th>\n",
              "      <th>ELEVATORS_MEDI</th>\n",
              "      <th>ELEVATORS_MODE</th>\n",
              "      <th>ENTRANCES_AVG</th>\n",
              "      <th>ENTRANCES_MEDI</th>\n",
              "      <th>ENTRANCES_MODE</th>\n",
              "      <th>EXT_SOURCE_1</th>\n",
              "      <th>EXT_SOURCE_2</th>\n",
              "      <th>EXT_SOURCE_3</th>\n",
              "      <th>FLAG_CONT_MOBILE</th>\n",
              "      <th>FLAG_DOCUMENT_10</th>\n",
              "      <th>FLAG_DOCUMENT_11</th>\n",
              "      <th>...</th>\n",
              "      <th>previous_app_CHANNEL_TYPE_Car dealer_mean</th>\n",
              "      <th>previous_app_CHANNEL_TYPE_Channel of corporate sales_mean</th>\n",
              "      <th>previous_app_CHANNEL_TYPE_Contact center_mean</th>\n",
              "      <th>previous_app_CHANNEL_TYPE_Country-wide_mean</th>\n",
              "      <th>previous_app_CHANNEL_TYPE_Credit and cash offices_mean</th>\n",
              "      <th>previous_app_CHANNEL_TYPE_Regional / Local_mean</th>\n",
              "      <th>previous_app_CHANNEL_TYPE_Stone_mean</th>\n",
              "      <th>previous_app_NAME_SELLER_INDUSTRY_Auto technology_mean</th>\n",
              "      <th>previous_app_NAME_SELLER_INDUSTRY_Clothing_mean</th>\n",
              "      <th>previous_app_NAME_SELLER_INDUSTRY_Connectivity_mean</th>\n",
              "      <th>previous_app_NAME_SELLER_INDUSTRY_Construction_mean</th>\n",
              "      <th>previous_app_NAME_SELLER_INDUSTRY_Consumer electronics_mean</th>\n",
              "      <th>previous_app_NAME_SELLER_INDUSTRY_Furniture_mean</th>\n",
              "      <th>previous_app_NAME_SELLER_INDUSTRY_Industry_mean</th>\n",
              "      <th>previous_app_NAME_SELLER_INDUSTRY_Jewelry_mean</th>\n",
              "      <th>previous_app_NAME_SELLER_INDUSTRY_MLM partners_mean</th>\n",
              "      <th>previous_app_NAME_SELLER_INDUSTRY_Tourism_mean</th>\n",
              "      <th>previous_app_NAME_SELLER_INDUSTRY_XNA_mean</th>\n",
              "      <th>previous_app_NAME_YIELD_GROUP_XNA_mean</th>\n",
              "      <th>previous_app_NAME_YIELD_GROUP_high_mean</th>\n",
              "      <th>previous_app_NAME_YIELD_GROUP_low_action_mean</th>\n",
              "      <th>previous_app_NAME_YIELD_GROUP_low_normal_mean</th>\n",
              "      <th>previous_app_NAME_YIELD_GROUP_middle_mean</th>\n",
              "      <th>previous_app_PRODUCT_COMBINATION_Card Street_mean</th>\n",
              "      <th>previous_app_PRODUCT_COMBINATION_Card X-Sell_mean</th>\n",
              "      <th>previous_app_PRODUCT_COMBINATION_Cash_mean</th>\n",
              "      <th>previous_app_PRODUCT_COMBINATION_Cash Street: high_mean</th>\n",
              "      <th>previous_app_PRODUCT_COMBINATION_Cash Street: low_mean</th>\n",
              "      <th>previous_app_PRODUCT_COMBINATION_Cash Street: middle_mean</th>\n",
              "      <th>previous_app_PRODUCT_COMBINATION_Cash X-Sell: high_mean</th>\n",
              "      <th>previous_app_PRODUCT_COMBINATION_Cash X-Sell: low_mean</th>\n",
              "      <th>previous_app_PRODUCT_COMBINATION_Cash X-Sell: middle_mean</th>\n",
              "      <th>previous_app_PRODUCT_COMBINATION_POS household with interest_mean</th>\n",
              "      <th>previous_app_PRODUCT_COMBINATION_POS household without interest_mean</th>\n",
              "      <th>previous_app_PRODUCT_COMBINATION_POS industry with interest_mean</th>\n",
              "      <th>previous_app_PRODUCT_COMBINATION_POS industry without interest_mean</th>\n",
              "      <th>previous_app_PRODUCT_COMBINATION_POS mobile with interest_mean</th>\n",
              "      <th>previous_app_PRODUCT_COMBINATION_POS mobile without interest_mean</th>\n",
              "      <th>previous_app_PRODUCT_COMBINATION_POS other with interest_mean</th>\n",
              "      <th>previous_app_PRODUCT_COMBINATION_POS others without interest_mean</th>\n",
              "    </tr>\n",
              "    <tr>\n",
              "      <th>Unnamed: 0</th>\n",
              "      <th></th>\n",
              "      <th></th>\n",
              "      <th></th>\n",
              "      <th></th>\n",
              "      <th></th>\n",
              "      <th></th>\n",
              "      <th></th>\n",
              "      <th></th>\n",
              "      <th></th>\n",
              "      <th></th>\n",
              "      <th></th>\n",
              "      <th></th>\n",
              "      <th></th>\n",
              "      <th></th>\n",
              "      <th></th>\n",
              "      <th></th>\n",
              "      <th></th>\n",
              "      <th></th>\n",
              "      <th></th>\n",
              "      <th></th>\n",
              "      <th></th>\n",
              "      <th></th>\n",
              "      <th></th>\n",
              "      <th></th>\n",
              "      <th></th>\n",
              "      <th></th>\n",
              "      <th></th>\n",
              "      <th></th>\n",
              "      <th></th>\n",
              "      <th></th>\n",
              "      <th></th>\n",
              "      <th></th>\n",
              "      <th></th>\n",
              "      <th></th>\n",
              "      <th></th>\n",
              "      <th></th>\n",
              "      <th></th>\n",
              "      <th></th>\n",
              "      <th></th>\n",
              "      <th></th>\n",
              "      <th></th>\n",
              "      <th></th>\n",
              "      <th></th>\n",
              "      <th></th>\n",
              "      <th></th>\n",
              "      <th></th>\n",
              "      <th></th>\n",
              "      <th></th>\n",
              "      <th></th>\n",
              "      <th></th>\n",
              "      <th></th>\n",
              "      <th></th>\n",
              "      <th></th>\n",
              "      <th></th>\n",
              "      <th></th>\n",
              "      <th></th>\n",
              "      <th></th>\n",
              "      <th></th>\n",
              "      <th></th>\n",
              "      <th></th>\n",
              "      <th></th>\n",
              "      <th></th>\n",
              "      <th></th>\n",
              "      <th></th>\n",
              "      <th></th>\n",
              "      <th></th>\n",
              "      <th></th>\n",
              "      <th></th>\n",
              "      <th></th>\n",
              "      <th></th>\n",
              "      <th></th>\n",
              "      <th></th>\n",
              "      <th></th>\n",
              "      <th></th>\n",
              "      <th></th>\n",
              "      <th></th>\n",
              "      <th></th>\n",
              "      <th></th>\n",
              "      <th></th>\n",
              "      <th></th>\n",
              "      <th></th>\n",
              "    </tr>\n",
              "  </thead>\n",
              "  <tbody>\n",
              "  </tbody>\n",
              "</table>\n",
              "<p>0 rows × 724 columns</p>\n",
              "</div>"
            ],
            "text/plain": [
              "Empty DataFrame\n",
              "Columns: [AMT_ANNUITY, AMT_CREDIT, AMT_GOODS_PRICE, AMT_INCOME_TOTAL, AMT_REQ_CREDIT_BUREAU_DAY, AMT_REQ_CREDIT_BUREAU_HOUR, AMT_REQ_CREDIT_BUREAU_MON, AMT_REQ_CREDIT_BUREAU_QRT, AMT_REQ_CREDIT_BUREAU_WEEK, AMT_REQ_CREDIT_BUREAU_YEAR, APARTMENTS_AVG, APARTMENTS_MEDI, APARTMENTS_MODE, BASEMENTAREA_AVG, BASEMENTAREA_MEDI, BASEMENTAREA_MODE, CNT_CHILDREN, CNT_FAM_MEMBERS, COMMONAREA_AVG, COMMONAREA_MEDI, COMMONAREA_MODE, DAYS_BIRTH, DAYS_EMPLOYED, DAYS_ID_PUBLISH, DAYS_LAST_PHONE_CHANGE, DAYS_REGISTRATION, DEF_30_CNT_SOCIAL_CIRCLE, DEF_60_CNT_SOCIAL_CIRCLE, ELEVATORS_AVG, ELEVATORS_MEDI, ELEVATORS_MODE, ENTRANCES_AVG, ENTRANCES_MEDI, ENTRANCES_MODE, EXT_SOURCE_1, EXT_SOURCE_2, EXT_SOURCE_3, FLAG_CONT_MOBILE, FLAG_DOCUMENT_10, FLAG_DOCUMENT_11, FLAG_DOCUMENT_12, FLAG_DOCUMENT_13, FLAG_DOCUMENT_14, FLAG_DOCUMENT_15, FLAG_DOCUMENT_16, FLAG_DOCUMENT_17, FLAG_DOCUMENT_18, FLAG_DOCUMENT_19, FLAG_DOCUMENT_2, FLAG_DOCUMENT_20, FLAG_DOCUMENT_21, FLAG_DOCUMENT_3, FLAG_DOCUMENT_4, FLAG_DOCUMENT_5, FLAG_DOCUMENT_6, FLAG_DOCUMENT_7, FLAG_DOCUMENT_8, FLAG_DOCUMENT_9, FLAG_EMAIL, FLAG_EMP_PHONE, FLAG_MOBIL, FLAG_PHONE, FLAG_WORK_PHONE, FLOORSMAX_AVG, FLOORSMAX_MEDI, FLOORSMAX_MODE, FLOORSMIN_AVG, FLOORSMIN_MEDI, FLOORSMIN_MODE, HOUR_APPR_PROCESS_START, LANDAREA_AVG, LANDAREA_MEDI, LANDAREA_MODE, LIVE_CITY_NOT_WORK_CITY, LIVE_REGION_NOT_WORK_REGION, LIVINGAPARTMENTS_AVG, LIVINGAPARTMENTS_MEDI, LIVINGAPARTMENTS_MODE, LIVINGAREA_AVG, LIVINGAREA_MEDI, LIVINGAREA_MODE, NONLIVINGAPARTMENTS_AVG, NONLIVINGAPARTMENTS_MEDI, NONLIVINGAPARTMENTS_MODE, NONLIVINGAREA_AVG, NONLIVINGAREA_MEDI, NONLIVINGAREA_MODE, OBS_30_CNT_SOCIAL_CIRCLE, OBS_60_CNT_SOCIAL_CIRCLE, OWN_CAR_AGE, REGION_POPULATION_RELATIVE, REGION_RATING_CLIENT, REGION_RATING_CLIENT_W_CITY, REG_CITY_NOT_LIVE_CITY, REG_CITY_NOT_WORK_CITY, REG_REGION_NOT_LIVE_REGION, REG_REGION_NOT_WORK_REGION, SK_ID_CURR, TARGET, TOTALAREA_MODE, ...]\n",
              "Index: []\n",
              "\n",
              "[0 rows x 724 columns]"
            ]
          },
          "metadata": {
            "tags": []
          },
          "execution_count": 46
        }
      ]
    },
    {
      "cell_type": "code",
      "metadata": {
        "id": "lc8JpxXytWxj",
        "colab_type": "code",
        "colab": {
          "base_uri": "https://localhost:8080/",
          "height": 35
        },
        "outputId": "556182a6-18db-4b7c-b2fb-f30e7ec82c53"
      },
      "source": [
        "data=data.drop(['SK_ID_CURR'],axis=1)\n",
        "x_train=data.drop('TARGET',axis=1)\n",
        "y_train=data['TARGET']\n",
        "gc.enable()\n",
        "del data\n",
        "gc.collect()"
      ],
      "execution_count": 39,
      "outputs": [
        {
          "output_type": "execute_result",
          "data": {
            "text/plain": [
              "4552"
            ]
          },
          "metadata": {
            "tags": []
          },
          "execution_count": 39
        }
      ]
    },
    {
      "cell_type": "code",
      "metadata": {
        "id": "O5XrK74nc65z",
        "colab_type": "code",
        "colab": {}
      },
      "source": [
        "x_train,x_test,y_train,y_test = train_test_split(x_train,y_train,test_size=0.25,random_state=0)\n",
        "mean=x_train.mean()\n",
        "std=x_train.std()\n",
        "x_train=(x_train-mean)/std\n",
        "x_test=(x_test-mean)/std"
      ],
      "execution_count": 0,
      "outputs": []
    },
    {
      "cell_type": "code",
      "metadata": {
        "id": "BlmrCrjsEqsb",
        "colab_type": "code",
        "colab": {}
      },
      "source": [
        "x_train=np.array(x_train)\n",
        "y_train=np.array(y_train)\n",
        "x_test=np.array(x_test)\n",
        "y_test=np.array(y_test)"
      ],
      "execution_count": 0,
      "outputs": []
    },
    {
      "cell_type": "code",
      "metadata": {
        "id": "D07kA-EhYL3r",
        "colab_type": "code",
        "colab": {}
      },
      "source": [
        "x_train[np.isnan(x_train)]=-1\n",
        "x_test[np.isnan(x_test)]=-1"
      ],
      "execution_count": 0,
      "outputs": []
    },
    {
      "cell_type": "code",
      "metadata": {
        "id": "1jYsejtCcPaj",
        "colab_type": "code",
        "colab": {
          "base_uri": "https://localhost:8080/",
          "height": 72
        },
        "outputId": "c43a3f89-2652-459e-e645-5774998aa024"
      },
      "source": [
        "from imblearn.over_sampling import SMOTE\n",
        "def smote(X_train, y_train):\n",
        "  smo = SMOTE(random_state=123)\n",
        "  over_samples_X, over_samples_y = smo.fit_sample(X_train, y_train)\n",
        "  return over_samples_X, over_samples_y\n",
        "\n",
        "x_train,y_train=smote(x_train,y_train)"
      ],
      "execution_count": 19,
      "outputs": [
        {
          "output_type": "stream",
          "text": [
            "/usr/local/lib/python3.6/dist-packages/sklearn/externals/six.py:31: DeprecationWarning: The module is deprecated in version 0.21 and will be removed in version 0.23 since we've dropped support for Python 2.7. Please rely on the official version of six (https://pypi.org/project/six/).\n",
            "  \"(https://pypi.org/project/six/).\", DeprecationWarning)\n"
          ],
          "name": "stderr"
        }
      ]
    },
    {
      "cell_type": "code",
      "metadata": {
        "id": "wxRtubqNaSpq",
        "colab_type": "code",
        "outputId": "75d1cd6e-fae5-4f2f-b209-f81981983f40",
        "colab": {
          "base_uri": "https://localhost:8080/",
          "height": 277
        }
      },
      "source": [
        "print(x_train[:5,:10])"
      ],
      "execution_count": 14,
      "outputs": [
        {
          "output_type": "stream",
          "text": [
            "[[-7.70215299e-01 -6.45192953e-01 -8.11788789e-01 -2.11008389e-01\n",
            "  -2.33555073e-03 -1.96998587e-04 -1.56819471e-04  3.95100716e-04\n",
            "  -1.82620286e-03 -4.22432533e-04]\n",
            " [-6.43213929e-01 -3.36800535e-01 -2.03045080e-01 -3.62812499e-01\n",
            "  -6.80589526e-02 -8.22036623e-02  7.90807402e+00 -3.36994651e-01\n",
            "  -1.79887269e-01 -1.09378433e+00]\n",
            " [ 7.54111666e-01  2.07891960e+00  1.58666142e+00 -4.23371545e-02\n",
            "  -6.80589526e-02 -8.22036623e-02 -3.14237384e-01  2.20477388e+00\n",
            "  -1.79887269e-01  5.71466153e-02]\n",
            " [ 5.38613008e-01  1.18879988e+00  9.77917714e-01 -3.96546746e-01\n",
            "  -6.80589526e-02 -8.22036623e-02 -3.14237384e-01  2.20477388e+00\n",
            "  -1.79887269e-01  5.71466153e-02]\n",
            " [-1.40460112e+00 -1.15209212e+00 -1.09181089e+00 -4.23371545e-02\n",
            "  -6.80589526e-02 -8.22036623e-02 -3.14237384e-01  9.33889614e-01\n",
            "  -1.79887269e-01  6.32612087e-01]]\n"
          ],
          "name": "stdout"
        }
      ]
    },
    {
      "cell_type": "code",
      "metadata": {
        "id": "-xECKE9Cd_Bc",
        "colab_type": "code",
        "outputId": "c521cc4d-52de-4af6-8b25-44a4bd6513b3",
        "colab": {
          "base_uri": "https://localhost:8080/",
          "height": 52
        }
      },
      "source": [
        "print((y_train==1).sum())\n",
        "print((y_train==0).sum())"
      ],
      "execution_count": 20,
      "outputs": [
        {
          "output_type": "stream",
          "text": [
            "212042\n",
            "212042\n"
          ],
          "name": "stdout"
        }
      ]
    },
    {
      "cell_type": "code",
      "metadata": {
        "id": "r-KuxwHGKQSe",
        "colab_type": "code",
        "colab": {
          "base_uri": "https://localhost:8080/",
          "height": 52
        },
        "outputId": "6215e32d-3274-4532-be5b-32946779a2ab"
      },
      "source": [
        "print((y_test==1).sum())\n",
        "print((y_test==0).sum())"
      ],
      "execution_count": 86,
      "outputs": [
        {
          "output_type": "stream",
          "text": [
            "6240\n",
            "70635\n"
          ],
          "name": "stdout"
        }
      ]
    },
    {
      "cell_type": "code",
      "metadata": {
        "id": "J9oaDy6KEv6j",
        "colab_type": "code",
        "colab": {}
      },
      "source": [
        "seed = 1\n",
        "learning_rate = 0.001\n",
        "batch_size = 1024\n",
        "n_epochs = 10\n",
        "device = torch.device(\"cuda\" if torch.cuda.is_available() else \"cpu\")"
      ],
      "execution_count": 0,
      "outputs": []
    },
    {
      "cell_type": "code",
      "metadata": {
        "id": "bXF0OItOA42T",
        "colab_type": "code",
        "colab": {}
      },
      "source": [
        "class MLP(torch.nn.Module):\n",
        "\n",
        "  def __init__(self):\n",
        "    super(MLP, self).__init__()\n",
        "          \n",
        "    self.linear_1 = nn.Linear(722, 526)\n",
        "    self.linear_2 = nn.Linear(526, 258)\n",
        "    self.linear_3 = nn.Linear(258,56)\n",
        "    self.linear_out = nn.Linear(56, 1)\n",
        "        \n",
        "        \n",
        "  def forward(self, x):\n",
        "    out = self.linear_1(x)\n",
        "    # print(out)\n",
        "    out = torch.tanh(out)\n",
        "    out = F.dropout(out,p=0.5,training=self.training)\n",
        "    out = self.linear_2(out)\n",
        "    out = torch.tanh(out) \n",
        "    out = F.dropout(out,p=0.5,training=self.training)\n",
        "    out = self.linear_3(out)\n",
        "    out = torch.sigmoid(out) \n",
        "    out = F.dropout(out,p=0.5,training=self.training)     \n",
        "    logits = self.linear_out(out)\n",
        "    # print(logits)\n",
        "    return logits"
      ],
      "execution_count": 0,
      "outputs": []
    },
    {
      "cell_type": "code",
      "metadata": {
        "id": "qc8qGGkkA5cF",
        "colab_type": "code",
        "colab": {}
      },
      "source": [
        "def compute_epoch_loss(model, data_loader):\n",
        "  curr_loss, num_examples = 0., 0\n",
        "  loss_fn=nn.BCEWithLogitsLoss()\n",
        "  with torch.no_grad():\n",
        "    for features, targets in data_loader:\n",
        "      features = features.view(-1, 722).to(device)\n",
        "      targets = targets.to(device)\n",
        "      logits = model.forward(features)\n",
        "      loss = loss_fn(torch.squeeze(logits),targets)\n",
        "      num_examples += targets.size()[0]\n",
        "      curr_loss += loss*targets.size()[0]\n",
        "\n",
        "    curr_loss = curr_loss / num_examples\n",
        "    return curr_loss\n",
        "\n",
        "    \n",
        "def compute_accuracy(model, data_loader):\n",
        "  correct_pred, num_examples = 0, 0\n",
        "  l=0\n",
        "  with torch.no_grad():\n",
        "    for features, targets in data_loader:\n",
        "      features = features.view(-1, 722).to(device)\n",
        "      targets = targets.to(device)\n",
        "      targets = torch.squeeze(targets)\n",
        "      logits = model.forward(features)\n",
        "      predicted_labels = torch.sigmoid(logits)\n",
        "      num_examples += targets.size(0)\n",
        "      predicted_labels = torch.squeeze(predicted_labels)\n",
        "      correct_pred += (((np.array(predicted_labels.cpu())>0.5).astype(int) == np.array(targets.cpu())).sum())\n",
        "    # print(correct_pred)\n",
        "    return correct_pred/num_examples * 100"
      ],
      "execution_count": 0,
      "outputs": []
    },
    {
      "cell_type": "code",
      "metadata": {
        "id": "pa68zMKrkt3Q",
        "colab_type": "code",
        "colab": {}
      },
      "source": [
        "trainfoldx = torch.tensor(x_train, dtype=torch.float32).to(device)\n",
        "trainfoldy = torch.tensor(y_train, dtype=torch.float32).to(device)\n",
        "x_val_fold = torch.tensor(x_test, dtype=torch.float32).to(device)\n",
        "y_val_fold = torch.tensor(y_test[:,np.newaxis], dtype=torch.float32).to(device)\n",
        "# print(trainfoldy[trainfoldy==1].shape)\n",
        "# print(trainfoldy[trainfoldy==0].shape)\n",
        "# print(y_val_fold[y_val_fold==1].shape)\n",
        "# print(y_val_fold[y_val_fold==0].shape)\n",
        "\n",
        "train = torch.utils.data.TensorDataset(trainfoldx,trainfoldy)\n",
        "valid = torch.utils.data.TensorDataset(x_val_fold, y_val_fold)\n",
        "\n",
        "train_loader = torch.utils.data.DataLoader(train , batch_size=batch_size,shuffle=True)\n",
        "valid_loader = torch.utils.data.DataLoader(valid, batch_size=batch_size, shuffle=False)"
      ],
      "execution_count": 0,
      "outputs": []
    },
    {
      "cell_type": "code",
      "metadata": {
        "id": "AKdcGWRuA8NO",
        "colab_type": "code",
        "outputId": "fed6f33a-2b14-47aa-ec07-f68a1a060d39",
        "colab": {
          "base_uri": "https://localhost:8080/",
          "height": 1000
        }
      },
      "source": [
        "mbatch_cost = []\n",
        "start_time = time.time()\n",
        "minibatch_cost = []\n",
        "torch.manual_seed(seed)\n",
        "model = MLP()\n",
        "model.to(device)\n",
        "optimizer = torch.optim.Adam(model.parameters(),lr=0.001, weight_decay=1e-8)\n",
        "loss_fn = torch.nn.BCEWithLogitsLoss()\n",
        "for epoch in range(n_epochs):\n",
        "    start = time.time()\n",
        "    model.train()\n",
        "    grand_loss = 0\n",
        "    for  batch_idx, (x_batch, y_batch) in enumerate(train_loader):\n",
        "        logits = model(x_batch)\n",
        "        # prob=np.array(logits.detach().cpu())\n",
        "        # print(prob[:10])\n",
        "        loss=loss_fn(torch.squeeze(logits),y_batch)\n",
        "\n",
        "        #backprop\n",
        "        optimizer.zero_grad()\n",
        "        loss.backward()\n",
        "        optimizer.step()\n",
        "        mbatch_cost.append(loss.item())\n",
        "        if not batch_idx % 50:\n",
        "            print ('Epoch: %03d/%03d | Batch %03d/%03d | Loss: %.4f' \n",
        "                %(epoch+1, n_epochs, batch_idx, len(train_loader), loss.item()))\n",
        "\n",
        "                  #evaluation          \n",
        "    model.eval()\n",
        "    cost = compute_epoch_loss(model, train_loader)\n",
        "    # cost_test = compute_epoch_loss(model, valid_loader)\n",
        "    # epoch_cost.append(cost)\n",
        "\n",
        "    train_accuracy = compute_accuracy(model, train_loader)\n",
        "    valid_accuracy = compute_accuracy(model, valid_loader)\n",
        "\n",
        "    print('Epoch: %03d/%03d Train Cost: %.4f' % (\n",
        "            epoch+1, n_epochs, cost))\n",
        "    print('Train Accuracy: %.3f | Test Accuracy: %.3f' % (train_accuracy, valid_accuracy))\n",
        "    print('Time elapsed: %.2f min' % ((time.time() - start_time)/60))\n",
        "\n",
        "print('Total Training Time: %.2f min' % ((time.time() - start_time)/60))\n",
        "    "
      ],
      "execution_count": 29,
      "outputs": [
        {
          "output_type": "stream",
          "text": [
            "Epoch: 001/010 | Batch 000/226 | Loss: 0.7460\n",
            "Epoch: 001/010 | Batch 050/226 | Loss: 0.2784\n",
            "Epoch: 001/010 | Batch 100/226 | Loss: 0.2715\n",
            "Epoch: 001/010 | Batch 150/226 | Loss: 0.2592\n",
            "Epoch: 001/010 | Batch 200/226 | Loss: 0.2308\n",
            "Epoch: 001/010 Train Cost: 0.2467\n",
            "Train Accuracy: 91.950 | Test Accuracy: 91.856\n",
            "Time elapsed: 0.16 min\n",
            "Epoch: 002/010 | Batch 000/226 | Loss: 0.2829\n",
            "Epoch: 002/010 | Batch 050/226 | Loss: 0.2701\n",
            "Epoch: 002/010 | Batch 100/226 | Loss: 0.2494\n",
            "Epoch: 002/010 | Batch 150/226 | Loss: 0.2617\n",
            "Epoch: 002/010 | Batch 200/226 | Loss: 0.2153\n",
            "Epoch: 002/010 Train Cost: 0.2405\n",
            "Train Accuracy: 92.015 | Test Accuracy: 91.880\n",
            "Time elapsed: 0.31 min\n",
            "Epoch: 003/010 | Batch 000/226 | Loss: 0.1962\n",
            "Epoch: 003/010 | Batch 050/226 | Loss: 0.2396\n",
            "Epoch: 003/010 | Batch 100/226 | Loss: 0.2194\n",
            "Epoch: 003/010 | Batch 150/226 | Loss: 0.2274\n",
            "Epoch: 003/010 | Batch 200/226 | Loss: 0.2524\n",
            "Epoch: 003/010 Train Cost: 0.2386\n",
            "Train Accuracy: 92.051 | Test Accuracy: 91.874\n",
            "Time elapsed: 0.47 min\n",
            "Epoch: 004/010 | Batch 000/226 | Loss: 0.2585\n",
            "Epoch: 004/010 | Batch 050/226 | Loss: 0.2510\n",
            "Epoch: 004/010 | Batch 100/226 | Loss: 0.2298\n",
            "Epoch: 004/010 | Batch 150/226 | Loss: 0.2325\n",
            "Epoch: 004/010 | Batch 200/226 | Loss: 0.2286\n",
            "Epoch: 004/010 Train Cost: 0.2366\n",
            "Train Accuracy: 92.066 | Test Accuracy: 91.871\n",
            "Time elapsed: 0.64 min\n",
            "Epoch: 005/010 | Batch 000/226 | Loss: 0.2386\n",
            "Epoch: 005/010 | Batch 050/226 | Loss: 0.2194\n",
            "Epoch: 005/010 | Batch 100/226 | Loss: 0.2375\n",
            "Epoch: 005/010 | Batch 150/226 | Loss: 0.2691\n",
            "Epoch: 005/010 | Batch 200/226 | Loss: 0.2314\n",
            "Epoch: 005/010 Train Cost: 0.2353\n",
            "Train Accuracy: 92.102 | Test Accuracy: 91.850\n",
            "Time elapsed: 0.79 min\n",
            "Epoch: 006/010 | Batch 000/226 | Loss: 0.2201\n",
            "Epoch: 006/010 | Batch 050/226 | Loss: 0.2400\n",
            "Epoch: 006/010 | Batch 100/226 | Loss: 0.2454\n",
            "Epoch: 006/010 | Batch 150/226 | Loss: 0.2260\n",
            "Epoch: 006/010 | Batch 200/226 | Loss: 0.2388\n",
            "Epoch: 006/010 Train Cost: 0.2319\n",
            "Train Accuracy: 92.144 | Test Accuracy: 91.906\n",
            "Time elapsed: 0.94 min\n",
            "Epoch: 007/010 | Batch 000/226 | Loss: 0.2279\n",
            "Epoch: 007/010 | Batch 050/226 | Loss: 0.2572\n",
            "Epoch: 007/010 | Batch 100/226 | Loss: 0.2491\n",
            "Epoch: 007/010 | Batch 150/226 | Loss: 0.2408\n",
            "Epoch: 007/010 | Batch 200/226 | Loss: 0.2727\n",
            "Epoch: 007/010 Train Cost: 0.2294\n",
            "Train Accuracy: 92.245 | Test Accuracy: 91.793\n",
            "Time elapsed: 1.10 min\n",
            "Epoch: 008/010 | Batch 000/226 | Loss: 0.2576\n",
            "Epoch: 008/010 | Batch 050/226 | Loss: 0.2518\n",
            "Epoch: 008/010 | Batch 100/226 | Loss: 0.2442\n",
            "Epoch: 008/010 | Batch 150/226 | Loss: 0.2218\n",
            "Epoch: 008/010 | Batch 200/226 | Loss: 0.2670\n",
            "Epoch: 008/010 Train Cost: 0.2276\n",
            "Train Accuracy: 92.218 | Test Accuracy: 91.836\n",
            "Time elapsed: 1.27 min\n",
            "Epoch: 009/010 | Batch 000/226 | Loss: 0.2184\n",
            "Epoch: 009/010 | Batch 050/226 | Loss: 0.2417\n",
            "Epoch: 009/010 | Batch 100/226 | Loss: 0.2657\n",
            "Epoch: 009/010 | Batch 150/226 | Loss: 0.2338\n",
            "Epoch: 009/010 | Batch 200/226 | Loss: 0.2459\n",
            "Epoch: 009/010 Train Cost: 0.2241\n",
            "Train Accuracy: 92.316 | Test Accuracy: 91.818\n",
            "Time elapsed: 1.43 min\n",
            "Epoch: 010/010 | Batch 000/226 | Loss: 0.2460\n",
            "Epoch: 010/010 | Batch 050/226 | Loss: 0.2160\n",
            "Epoch: 010/010 | Batch 100/226 | Loss: 0.2437\n",
            "Epoch: 010/010 | Batch 150/226 | Loss: 0.2427\n",
            "Epoch: 010/010 | Batch 200/226 | Loss: 0.2602\n",
            "Epoch: 010/010 Train Cost: 0.2218\n",
            "Train Accuracy: 92.254 | Test Accuracy: 91.875\n",
            "Time elapsed: 1.59 min\n",
            "Total Training Time: 1.59 min\n"
          ],
          "name": "stdout"
        }
      ]
    },
    {
      "cell_type": "code",
      "metadata": {
        "id": "Jm40j2t6HW4E",
        "colab_type": "code",
        "outputId": "e51c7186-97ad-457b-80b6-39b65ce7db1e",
        "colab": {
          "base_uri": "https://localhost:8080/",
          "height": 265
        }
      },
      "source": [
        "plt.plot(mbatch_cost)\n",
        "# plt.ylim([0, 400])\n",
        "plt.show()"
      ],
      "execution_count": 30,
      "outputs": [
        {
          "output_type": "display_data",
          "data": {
            "image/png": "[encoded data removed]",
            "text/plain": [
              "<Figure size 432x288 with 1 Axes>"
            ]
          },
          "metadata": {
            "tags": []
          }
        }
      ]
    },
    {
      "cell_type": "code",
      "metadata": {
        "id": "viCnv94SenbA",
        "colab_type": "code",
        "colab": {}
      },
      "source": [
        "logits = model(x_val_fold)"
      ],
      "execution_count": 0,
      "outputs": []
    },
    {
      "cell_type": "code",
      "metadata": {
        "id": "tY5gNbbWe6VD",
        "colab_type": "code",
        "outputId": "f3400a26-644a-4717-d505-db0a92eab80e",
        "colab": {
          "base_uri": "https://localhost:8080/",
          "height": 301
        }
      },
      "source": [
        "predicted_prob = torch.sigmoid(logits)\n",
        "# (np.array(predicted_labels.detach().cpu())>0.5).sum()\n",
        "fpr, tpr, thresholds = metrics.roc_curve(y_test, np.array(predicted_prob.detach().cpu()))\n",
        "plt.plot(fpr, tpr, 'b')\n",
        "plt.plot([0, 1], [0, 1], 'r--')\n",
        "plt.xlim([0, 1])\n",
        "plt.ylim([0, 1])\n",
        "plt.ylabel('TP')\n",
        "plt.xlabel('FP')\n",
        "plt.show()\n",
        "AUC = metrics.auc(fpr, tpr)\n",
        "print('AUC=',AUC)"
      ],
      "execution_count": 32,
      "outputs": [
        {
          "output_type": "display_data",
          "data": {
            "image/png": "[encoded data removed]",
            "text/plain": [
              "<Figure size 432x288 with 1 Axes>"
            ]
          },
          "metadata": {
            "tags": []
          }
        },
        {
          "output_type": "stream",
          "text": [
            "AUC= 0.766517595421025\n"
          ],
          "name": "stdout"
        }
      ]
    },
    {
      "cell_type": "code",
      "metadata": {
        "id": "zN6_248lYniS",
        "colab_type": "code",
        "colab": {}
      },
      "source": [
        "submit=pd.read_csv('test.csv')"
      ],
      "execution_count": 0,
      "outputs": []
    },
    {
      "cell_type": "code",
      "metadata": {
        "id": "LhXRO8mG66CS",
        "colab_type": "code",
        "colab": {
          "base_uri": "https://localhost:8080/",
          "height": 295
        },
        "outputId": "f1d3f18f-bea5-4ac0-9f8e-392fefb0a378"
      },
      "source": [
        "submit.columns"
      ],
      "execution_count": 27,
      "outputs": [
        {
          "output_type": "execute_result",
          "data": {
            "text/plain": [
              "Index(['Unnamed: 0', 'AMT_ANNUITY', 'AMT_CREDIT', 'AMT_GOODS_PRICE',\n",
              "       'AMT_INCOME_TOTAL', 'AMT_REQ_CREDIT_BUREAU_DAY',\n",
              "       'AMT_REQ_CREDIT_BUREAU_HOUR', 'AMT_REQ_CREDIT_BUREAU_MON',\n",
              "       'AMT_REQ_CREDIT_BUREAU_QRT', 'AMT_REQ_CREDIT_BUREAU_WEEK',\n",
              "       ...\n",
              "       'previous_app_PRODUCT_COMBINATION_Cash X-Sell: low_mean',\n",
              "       'previous_app_PRODUCT_COMBINATION_Cash X-Sell: middle_mean',\n",
              "       'previous_app_PRODUCT_COMBINATION_POS household with interest_mean',\n",
              "       'previous_app_PRODUCT_COMBINATION_POS household without interest_mean',\n",
              "       'previous_app_PRODUCT_COMBINATION_POS industry with interest_mean',\n",
              "       'previous_app_PRODUCT_COMBINATION_POS industry without interest_mean',\n",
              "       'previous_app_PRODUCT_COMBINATION_POS mobile with interest_mean',\n",
              "       'previous_app_PRODUCT_COMBINATION_POS mobile without interest_mean',\n",
              "       'previous_app_PRODUCT_COMBINATION_POS other with interest_mean',\n",
              "       'previous_app_PRODUCT_COMBINATION_POS others without interest_mean'],\n",
              "      dtype='object', length=724)"
            ]
          },
          "metadata": {
            "tags": []
          },
          "execution_count": 27
        }
      ]
    },
    {
      "cell_type": "code",
      "metadata": {
        "id": "6TvZbo-S-uKu",
        "colab_type": "code",
        "colab": {}
      },
      "source": [
        "test=submit.drop(['Unnamed: 0','SK_ID_CURR'],axis=1)"
      ],
      "execution_count": 0,
      "outputs": []
    },
    {
      "cell_type": "code",
      "metadata": {
        "id": "LBW1QQRkl2DP",
        "colab_type": "code",
        "colab": {}
      },
      "source": [
        "test=(test-mean)/std"
      ],
      "execution_count": 0,
      "outputs": []
    },
    {
      "cell_type": "code",
      "metadata": {
        "id": "SMhxrofIamlk",
        "colab_type": "code",
        "colab": {}
      },
      "source": [
        "test=np.array(test)\n",
        "test[np.isnan(test)]=-1\n",
        "test=torch.tensor(test, dtype=torch.float32).to(device)"
      ],
      "execution_count": 0,
      "outputs": []
    },
    {
      "cell_type": "code",
      "metadata": {
        "id": "OpSp6CBlY0Uo",
        "colab_type": "code",
        "colab": {}
      },
      "source": [
        "logits = model(test)\n",
        "predicted_prob = torch.sigmoid(logits)\n",
        "predicted_prob = np.array(predicted_prob.detach().cpu())"
      ],
      "execution_count": 0,
      "outputs": []
    },
    {
      "cell_type": "code",
      "metadata": {
        "id": "HLtk5UACuRHP",
        "colab_type": "code",
        "colab": {
          "base_uri": "https://localhost:8080/",
          "height": 104
        },
        "outputId": "75bbbc8d-7d2e-481f-fd9b-911c9bbe67c1"
      },
      "source": [
        "predicted_prob[:5]"
      ],
      "execution_count": 97,
      "outputs": [
        {
          "output_type": "execute_result",
          "data": {
            "text/plain": [
              "array([[0.05503048],\n",
              "       [0.17696759],\n",
              "       [0.06069572],\n",
              "       [0.01991686],\n",
              "       [0.09288452]], dtype=float32)"
            ]
          },
          "metadata": {
            "tags": []
          },
          "execution_count": 97
        }
      ]
    },
    {
      "cell_type": "code",
      "metadata": {
        "id": "OAl7nq-K6T6B",
        "colab_type": "code",
        "colab": {
          "base_uri": "https://localhost:8080/",
          "height": 35
        },
        "outputId": "46a8653d-0355-439e-8347-99ae222ff47a"
      },
      "source": [
        "sub=pd.DataFrame({'SK_ID_CURR':submit['SK_ID_CURR']})\n",
        "sub.shape"
      ],
      "execution_count": 98,
      "outputs": [
        {
          "output_type": "execute_result",
          "data": {
            "text/plain": [
              "(48744, 1)"
            ]
          },
          "metadata": {
            "tags": []
          },
          "execution_count": 98
        }
      ]
    },
    {
      "cell_type": "code",
      "metadata": {
        "id": "FbCQ_E3cbieK",
        "colab_type": "code",
        "colab": {}
      },
      "source": [
        "sub['TARGET'] = predicted_prob\n",
        "sub.fillna(0.5, inplace=True)\n",
        "sub.to_csv('submit_ffnn.csv', index=False)"
      ],
      "execution_count": 0,
      "outputs": []
    },
    {
      "cell_type": "code",
      "metadata": {
        "id": "_MM1kEHYuFx5",
        "colab_type": "code",
        "colab": {
          "base_uri": "https://localhost:8080/",
          "height": 79
        },
        "outputId": "a1df1483-a7e8-4c44-8541-bc8b78ccd958"
      },
      "source": [
        "sub[sub.isnull().values==True]"
      ],
      "execution_count": 102,
      "outputs": [
        {
          "output_type": "execute_result",
          "data": {
            "text/html": [
              "<div>\n",
              "<style scoped>\n",
              "    .dataframe tbody tr th:only-of-type {\n",
              "        vertical-align: middle;\n",
              "    }\n",
              "\n",
              "    .dataframe tbody tr th {\n",
              "        vertical-align: top;\n",
              "    }\n",
              "\n",
              "    .dataframe thead th {\n",
              "        text-align: right;\n",
              "    }\n",
              "</style>\n",
              "<table border=\"1\" class=\"dataframe\">\n",
              "  <thead>\n",
              "    <tr style=\"text-align: right;\">\n",
              "      <th></th>\n",
              "      <th>SK_ID_CURR</th>\n",
              "      <th>TARGET</th>\n",
              "    </tr>\n",
              "  </thead>\n",
              "  <tbody>\n",
              "    <tr>\n",
              "      <th>45222</th>\n",
              "      <td>431114</td>\n",
              "      <td>NaN</td>\n",
              "    </tr>\n",
              "  </tbody>\n",
              "</table>\n",
              "</div>"
            ],
            "text/plain": [
              "       SK_ID_CURR  TARGET\n",
              "45222      431114     NaN"
            ]
          },
          "metadata": {
            "tags": []
          },
          "execution_count": 102
        }
      ]
    }
  ]
}
